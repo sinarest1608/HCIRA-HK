{
 "cells": [
  {
   "cell_type": "code",
   "execution_count": 1,
   "metadata": {},
   "outputs": [],
   "source": [
    "import pandas as pd"
   ]
  },
  {
   "cell_type": "code",
   "execution_count": 2,
   "metadata": {},
   "outputs": [
    {
     "name": "stdout",
     "output_type": "stream",
     "text": [
      "                        RecoResultScore\n",
      "#ofTrainingExamples[E]                 \n",
      "1.0                            0.844283\n",
      "2.0                            0.877500\n",
      "3.0                            0.897517\n",
      "4.0                            0.906500\n",
      "5.0                            0.914217\n",
      "6.0                            0.915383\n",
      "7.0                            0.920267\n",
      "8.0                            0.924967\n",
      "9.0                            0.925983\n"
     ]
    }
   ],
   "source": [
    "df = pd.read_csv(\"logfile_usersamples_pr2_10.csv\")\n",
    "data = df[['#ofTrainingExamples[E]','RecoResultScore']]\n",
    "unistrokeDataSet = data.groupby(['#ofTrainingExamples[E]']).mean()\n",
    "print(unistrokeDataSet)"
   ]
  },
  {
   "cell_type": "code",
   "execution_count": 3,
   "metadata": {},
   "outputs": [
    {
     "name": "stdout",
     "output_type": "stream",
     "text": [
      "                        RecoResultScore\n",
      "#ofTrainingExamples[E]                 \n",
      "1.0                            0.859000\n",
      "2.0                            0.890333\n",
      "3.0                            0.886833\n",
      "4.0                            0.900667\n",
      "5.0                            0.914833\n",
      "6.0                            0.909500\n",
      "7.0                            0.921167\n",
      "8.0                            0.924333\n",
      "9.0                            0.927833\n"
     ]
    }
   ],
   "source": [
    "df = pd.read_csv(\"logfile_usersamples_pr2_1.csv\")\n",
    "data = df[['#ofTrainingExamples[E]','RecoResultScore']]\n",
    "unistrokeDataSet = data.groupby(['#ofTrainingExamples[E]']).mean()\n",
    "print(unistrokeDataSet)"
   ]
  },
  {
   "cell_type": "code",
   "execution_count": null,
   "metadata": {},
   "outputs": [],
   "source": []
  }
 ],
 "metadata": {
  "kernelspec": {
   "display_name": "Python 3",
   "language": "python",
   "name": "python3"
  },
  "language_info": {
   "codemirror_mode": {
    "name": "ipython",
    "version": 3
   },
   "file_extension": ".py",
   "mimetype": "text/x-python",
   "name": "python",
   "nbconvert_exporter": "python",
   "pygments_lexer": "ipython3",
   "version": "3.10.9"
  },
  "orig_nbformat": 4
 },
 "nbformat": 4,
 "nbformat_minor": 2
}
